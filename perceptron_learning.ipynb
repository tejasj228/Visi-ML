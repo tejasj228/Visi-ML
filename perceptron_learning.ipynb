{
 "cells": [
  {
   "cell_type": "code",
   "execution_count": 16,
   "id": "fce42ecd-07d5-43c1-b45d-54ca79f3f522",
   "metadata": {},
   "outputs": [],
   "source": [
    "# For now lets say we have a Design Matrix X\n",
    "# and a label matrix Y\n",
    "# The design matrix is having multiple feature matrix xis\n",
    "# Let there be m features and n data points\n",
    "# So the Design Matrix is n*m\n",
    "# The label matrix is n*1\n",
    "# The feature matrix is 1*m\n",
    "# xiT is m*1 ( we will be using this one i guess )"
   ]
  },
  {
   "cell_type": "markdown",
   "id": "a0ffc07a",
   "metadata": {},
   "source": [
    "### The ON-LINE Mode\n",
    "- The W is updated after each feature and hence it is noisy\n",
    "- But this method is fast\n",
    "- After each correct prediction we do nothing \n",
    "- After each incorrect prediction we update the W with the feature"
   ]
  },
  {
   "cell_type": "code",
   "execution_count": 17,
   "id": "425d71a1",
   "metadata": {},
   "outputs": [],
   "source": [
    "import  numpy as np\n",
    "import matplotlib.pyplot as plt\n",
    "%matplotlib inline"
   ]
  },
  {
   "cell_type": "code",
   "execution_count": 18,
   "id": "eeec4bf0",
   "metadata": {},
   "outputs": [],
   "source": [
    "class OnlinePerceptron:\n",
    "    def __init__(self, X, Y, epoch, X_test, Y_test):\n",
    "        self.X = X\n",
    "        self.Y = Y\n",
    "        self.X_test = X_test\n",
    "        self.Y_test = Y_test\n",
    "        self.W = np.zeros((X.shape[1], 1), dtype=float)\n",
    "        self.bias = 0.0\n",
    "        self.epoch = epoch\n",
    "        self.n = X.shape[0]\n",
    "        self.m = X.shape[1]\n",
    "\n",
    "    def activation_threshold(self, z):\n",
    "        if z > 0:\n",
    "            return 1\n",
    "        else:\n",
    "            return 0\n",
    "\n",
    "    def start_perceptron(self):\n",
    "        for i in range(self.epoch):\n",
    "            for j in range(self.n):\n",
    "                x = np.array(self.X[j]).reshape((-1, 1))\n",
    "                z = np.dot(x.T, self.W) + self.bias\n",
    "                y_ = self.activation_threshold(z)\n",
    "                error = self.Y[j] - y_\n",
    "                self.W += error * x\n",
    "                self.bias += error\n",
    "\n",
    "    def test(self, X, Y):\n",
    "        total_test = X.shape[0]\n",
    "        correct = 0\n",
    "        for i in range(total_test):\n",
    "            x = np.array(X[i]).reshape((-1, 1))\n",
    "            z = np.dot(x.T, self.W) + self.bias\n",
    "            y_ = self.activation_threshold(z)\n",
    "            if y_ == Y[i]:\n",
    "                correct += 1\n",
    "        accuracy = correct / total_test * 100\n",
    "        return accuracy\n",
    "\n",
    "    def return_W(self):\n",
    "        for i in range(self.m):\n",
    "            print(f\"Weight for feature x{i} is {self.W[i]}\")\n",
    "        print(f\"Bias is {self.bias}\")\n",
    "\n",
    "                \n"
   ]
  },
  {
   "cell_type": "code",
   "execution_count": 19,
   "id": "7c26623e-57a1-409e-b29f-204c860a4f87",
   "metadata": {},
   "outputs": [],
   "source": [
    "# X = np.array([[0, 0], [0, 1], [1, 0], [1, 1]])\n",
    "# Y = np.array([0, 0, 0, 1]).reshape(-1, 1)\n",
    "# perceptron = On_line_perceptron(X, Y, epoch=100, bias=0)\n",
    "# perceptron.start_perceptron()\n",
    "# perceptron.return_W()"
   ]
  },
  {
   "cell_type": "code",
   "execution_count": 20,
   "id": "807843e4-144e-40f4-962e-6afc1d695ed7",
   "metadata": {},
   "outputs": [
    {
     "name": "stdout",
     "output_type": "stream",
     "text": [
      "Class label counts: [50 50]\n",
      "X.shape: (100, 2)\n",
      "y.shape: (100,)\n"
     ]
    }
   ],
   "source": [
    "data = np.genfromtxt('toy_data.txt', delimiter='\\t')\n",
    "X, y = data[:, :2], data[:, 2]\n",
    "y = y.astype(int)\n",
    "\n",
    "print('Class label counts:', np.bincount(y))\n",
    "print('X.shape:', X.shape)\n",
    "print('y.shape:', y.shape)\n",
    "\n",
    "# Shuffling & train/test split\n",
    "shuffle_idx = np.arange(y.shape[0])\n",
    "shuffle_rng = np.random.RandomState(123)\n",
    "shuffle_rng.shuffle(shuffle_idx)\n",
    "X, y = X[shuffle_idx], y[shuffle_idx]\n",
    "\n",
    "X_train, X_test = X[shuffle_idx[:70]], X[shuffle_idx[70:]]\n",
    "y_train, y_test = y[shuffle_idx[:70]], y[shuffle_idx[70:]]\n",
    "\n",
    "# Normalize (mean zero, unit variance)\n",
    "mu, sigma = X_train.mean(axis=0), X_train.std(axis=0)\n",
    "X_train = (X_train - mu) / sigma\n",
    "X_test = (X_test - mu) / sigma"
   ]
  },
  {
   "cell_type": "code",
   "execution_count": 35,
   "id": "802a1000",
   "metadata": {},
   "outputs": [
    {
     "name": "stdout",
     "output_type": "stream",
     "text": [
      "[0     -2.201441\n",
      "1     -0.291041\n",
      "2     -0.327755\n",
      "3     -0.075650\n",
      "4     -0.862493\n",
      "         ...   \n",
      "995   -0.942094\n",
      "996    1.222445\n",
      "997   -0.112466\n",
      "998   -0.403459\n",
      "999    0.021351\n",
      "Name: x1, Length: 1000, dtype: float64, 0     -0.468864\n",
      "1      0.777277\n",
      "2      0.040071\n",
      "3      1.821915\n",
      "4     -0.467493\n",
      "         ...   \n",
      "995   -0.835856\n",
      "996   -0.403177\n",
      "997   -1.688230\n",
      "998   -0.412272\n",
      "999   -0.499017\n",
      "Name: x2, Length: 1000, dtype: float64]\n"
     ]
    }
   ],
   "source": [
    "print(X)"
   ]
  },
  {
   "cell_type": "code",
   "execution_count": 21,
   "id": "b4ef7171-96c2-4b73-a242-26679322bbc0",
   "metadata": {},
   "outputs": [
    {
     "name": "stdout",
     "output_type": "stream",
     "text": [
      "Weight for feature x0 is [1.27340847]\n",
      "Weight for feature x1 is [1.34642288]\n",
      "Bias is -1.0\n",
      "Accuracy for train set is : 100.0\n",
      "\n",
      "Accuracy for test set is : 93.33333333333333\n",
      "\n"
     ]
    }
   ],
   "source": [
    "perceptron = OnlinePerceptron(X_train, y_train, 100, X_test, y_test)\n",
    "perceptron.start_perceptron()\n",
    "perceptron.return_W()\n",
    "print(f\"Accuracy for train set is : {perceptron.test(X_train,y_train)}\\n\")\n",
    "print(f\"Accuracy for test set is : {perceptron.test(X_test, y_test)}\\n\")"
   ]
  },
  {
   "cell_type": "code",
   "execution_count": 22,
   "id": "33a2e769-af9d-4ab4-8374-52bddf29586e",
   "metadata": {},
   "outputs": [
    {
     "data": {
      "image/png": "[encoded data removed]",
      "text/plain": [
       "<Figure size 700x300 with 2 Axes>"
      ]
     },
     "metadata": {},
     "output_type": "display_data"
    }
   ],
   "source": [
    "w, b = perceptron.W, perceptron.bias\n",
    "\n",
    "x0_min = -2\n",
    "x1_min = ( (-(w[0] * x0_min) - b) \n",
    "          / w[1] )\n",
    "\n",
    "x0_max = 2\n",
    "x1_max = ( (-(w[0] * x0_max) - b) \n",
    "          / w[1] )\n",
    "\n",
    "# x0*w0 + x1*w1 + b = 0\n",
    "# x1  = (-x0*w0 - b) / w1\n",
    "\n",
    "\n",
    "fig, ax = plt.subplots(1, 2, sharex=True, figsize=(7, 3))\n",
    "\n",
    "ax[0].plot([x0_min, x0_max], [x1_min, x1_max])\n",
    "ax[0].scatter(X_train[y_train==0, 0], X_train[y_train==0, 1], label='class 0', marker='o')\n",
    "ax[0].scatter(X_train[y_train==1, 0], X_train[y_train==1, 1], label='class 1', marker='s')\n",
    "\n",
    "ax[1].plot([x0_min, x0_max], [x1_min, x1_max])\n",
    "ax[1].scatter(X_test[y_test==0, 0], X_test[y_test==0, 1], label='class 0', marker='o')\n",
    "ax[1].scatter(X_test[y_test==1, 0], X_test[y_test==1, 1], label='class 1', marker='s')\n",
    "\n",
    "ax[1].legend(loc='upper left')\n",
    "plt.show()"
   ]
  },
  {
   "cell_type": "markdown",
   "id": "c3148730-cb0c-4568-8c9b-9373c95b96c7",
   "metadata": {},
   "source": [
    "### BATCH MODE\n",
    "- In this mode, the final/main weights are updated after each epoch instead of updation after each iteration in an epoch as in the case of on-line method\n",
    "- It is slower but more accurate because less noisy Ws and Bs are created\n",
    "- Rest the method of updation remains same\n"
   ]
  },
  {
   "cell_type": "code",
   "execution_count": 23,
   "id": "f99ad81c-cb6e-49c3-bd6c-ebd7cd849f8f",
   "metadata": {},
   "outputs": [],
   "source": [
    "class BatchPerceptron:\n",
    "    def __init__(self, X, Y, epoch, X_test, Y_test):\n",
    "        self.X = X\n",
    "        self.Y = Y\n",
    "        self.X_test = X_test\n",
    "        self.Y_test = Y_test\n",
    "        self.W = np.zeros((X.shape[1], 1), dtype=float)\n",
    "        self.bias = 0.0\n",
    "        self.epoch = epoch\n",
    "        self.n = X.shape[0]\n",
    "        self.m = X.shape[1]\n",
    "\n",
    "    def activation_threshold(self, z):\n",
    "        if z > 0:\n",
    "            return 1\n",
    "        else:\n",
    "            return 0\n",
    "\n",
    "    def start_perceptron(self):\n",
    "        for i in range(self.epoch):\n",
    "            w = np.zeros((X.shape[1], 1), dtype=float)\n",
    "            b = 0.0\n",
    "            for j in range(self.n):\n",
    "                x = np.array(self.X[j]).reshape((-1, 1))\n",
    "                z = np.dot(x.T, w) + b\n",
    "                y_ = self.activation_threshold(z)\n",
    "                error = self.Y[j] - y_\n",
    "                w += error * x\n",
    "                b += error\n",
    "            self.W += w\n",
    "            self.bias += b\n",
    "\n",
    "    def test(self, X, Y):\n",
    "        total_test = X.shape[0]\n",
    "        correct = 0\n",
    "        for i in range(total_test):\n",
    "            x = np.array(X[i]).reshape((-1, 1))\n",
    "            z = np.dot(x.T, self.W) + self.bias\n",
    "            y_ = self.activation_threshold(z)\n",
    "            if y_ == Y[i]:\n",
    "                correct += 1\n",
    "        accuracy = correct / total_test * 100\n",
    "        return accuracy\n",
    "\n",
    "    def return_W(self):\n",
    "        for i in range(self.m):\n",
    "            print(f\"Weight for feature x{i} is {self.W[i]}\")\n",
    "        print(f\"Bias is {self.bias}\")\n",
    "\n",
    "                \n"
   ]
  },
  {
   "cell_type": "code",
   "execution_count": 24,
   "id": "7eaac8e9-daee-457e-84f1-b52a7a0ba262",
   "metadata": {},
   "outputs": [
    {
     "name": "stdout",
     "output_type": "stream",
     "text": [
      "Weight for feature x0 is [127.34084715]\n",
      "Weight for feature x1 is [134.64228795]\n",
      "Bias is -100.0\n",
      "Accuracy for train set is : 100.0\n",
      "\n",
      "Accuracy for test set is : 93.33333333333333\n",
      "\n"
     ]
    }
   ],
   "source": [
    "perceptron = BatchPerceptron(X_train, y_train, 100, X_test, y_test)\n",
    "perceptron.start_perceptron()\n",
    "perceptron.return_W()\n",
    "print(f\"Accuracy for train set is : {perceptron.test(X_train,y_train)}\\n\")\n",
    "print(f\"Accuracy for test set is : {perceptron.test(X_test, y_test)}\\n\")"
   ]
  }
 ],
 "metadata": {
  "kernelspec": {
   "display_name": "Python 3 (ipykernel)",
   "language": "python",
   "name": "python3"
  },
  "language_info": {
   "codemirror_mode": {
    "name": "ipython",
    "version": 3
   },
   "file_extension": ".py",
   "mimetype": "text/x-python",
   "name": "python",
   "nbconvert_exporter": "python",
   "pygments_lexer": "ipython3",
   "version": "3.12.3"
  }
 },
 "nbformat": 4,
 "nbformat_minor": 5
}
